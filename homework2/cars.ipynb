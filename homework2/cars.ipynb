{
 "cells": [
  {
   "cell_type": "code",
   "execution_count": null,
   "source": [
    "#r \"nuget:Microsoft.ML\"\n",
    "#r \"nuget:Microsoft.Data.Analysis\"\n",
    "#r \"nuget:XPlot.Plotly\"\n",
    "#r \"nuget:XPlot.Plotly.Interactive\"\n",
    "using System;\n",
    "using System.Collections.Generic;\n",
    "using System.Globalization;\n",
    "using System.IO;\n",
    "using System.Linq;\n",
    "using Microsoft.ML;\n",
    "using Microsoft.ML.Data;\n",
    "using XPlot.Plotly;"
   ],
   "outputs": [],
   "metadata": {
    "dotnet_interactive": {
     "language": "csharp"
    }
   }
  },
  {
   "cell_type": "code",
   "execution_count": null,
   "source": [
    "internal class CarInfo\n",
    "{\n",
    "    [LoadColumn(0)] public float Model { get; set; }\n",
    "    [LoadColumn(1)] public float KilometersDriven { get; set; }\n",
    "    [LoadColumn(2)] public float Year { get; set; }\n",
    "    [LoadColumn(3)] public float Owner { get; set; }\n",
    "    [LoadColumn(4)] public float FuelType { get; set; }\n",
    "    [LoadColumn(5)] public float Transmission { get; set; }\n",
    "    [LoadColumn(6)] public float CarCondition { get; set; }\n",
    "    [LoadColumn(7)] public float Insurance { get; set; }\n",
    "    [LoadColumn(8)] public float SellingPrice { get; set; }\n",
    "\n",
    "    public override string ToString()\n",
    "    {\n",
    "        return\n",
    "            $\"{Model},{SellingPrice},{KilometersDriven},{Year},{Owner},{FuelType},{Transmission},{Insurance},{CarCondition}\";\n",
    "    }\n",
    "}\n",
    "\n",
    "internal class CarSellingPricePrediction\n",
    "{\n",
    "    public float Score { get; set; }\n",
    "}"
   ],
   "outputs": [],
   "metadata": {
    "dotnet_interactive": {
     "language": "csharp"
    }
   }
  },
  {
   "cell_type": "code",
   "execution_count": null,
   "source": [
    "Dictionary<string, int> carModels = new();\n",
    "Dictionary<string, int> fuelTypes = new();\n",
    "Dictionary<string, int> transmissions = new();\n",
    "\n",
    "CarInfo MapToCarInfo(string carInfoString)\n",
    "{\n",
    "    var carInfo = carInfoString.ToLowerInvariant().Split(',', StringSplitOptions.TrimEntries);\n",
    "    var carModel = carModels.TryAdd(carInfo[0], carModels.Count + 1) ? carModels.Count : carModels[carInfo[0]];\n",
    "    float.TryParse(carInfo[1], out var sellingPrice);\n",
    "    float.TryParse(carInfo[2], out var kilometersDriven);\n",
    "    float.TryParse(carInfo[3], out var year);\n",
    "    year = DateTime.Now.Year - year;\n",
    "    var owner = carInfo[4] switch\n",
    "    {\n",
    "        \"first owner\" => 1,\n",
    "        \"second owner\" => 2,\n",
    "        \"third owner\" => 3,\n",
    "        _ => 0\n",
    "    };\n",
    "    var fuelType = fuelTypes.TryAdd(carInfo[5], fuelTypes.Count + 1) ? fuelTypes.Count : fuelTypes[carInfo[5]];\n",
    "    var transmission = transmissions.TryAdd(carInfo[6], transmissions.Count + 1)\n",
    "        ? transmissions.Count\n",
    "        : transmissions[carInfo[6]];\n",
    "    var date = DateTime.TryParse(carInfo[7], out var dateTime)\n",
    "        ? dateTime.ToOADate()\n",
    "        : DateTime.TryParseExact(carInfo[7], \"dd-MM-yyyy\", CultureInfo.InvariantCulture, DateTimeStyles.None,\n",
    "            out var dateTime2)\n",
    "            ? dateTime2.ToOADate()\n",
    "            : 0;\n",
    "    var insurance = (float)date;\n",
    "    float.TryParse(carInfo[8], out var carCondition);\n",
    "\n",
    "    return new CarInfo()\n",
    "    {\n",
    "        Model = carModel,\n",
    "        KilometersDriven = kilometersDriven,\n",
    "        Year = year,\n",
    "        Owner = owner,\n",
    "        FuelType = fuelType,\n",
    "        Transmission = transmission,\n",
    "        Insurance = insurance,\n",
    "        CarCondition = carCondition,\n",
    "        SellingPrice = sellingPrice\n",
    "    };\n",
    "}\n",
    "\n",
    "var path = \"cars.csv\";\n",
    "var carInfos = File.ReadLines(path)\n",
    "    .Skip(1)\n",
    "    .Select(MapToCarInfo)\n",
    "    .ToArray();"
   ],
   "outputs": [],
   "metadata": {
    "dotnet_interactive": {
     "language": "csharp"
    }
   }
  },
  {
   "cell_type": "code",
   "execution_count": null,
   "source": [
    "MLContext mlContext = new(20210922);\n",
    "\n",
    "var dataView = mlContext.Data.LoadFromEnumerable(carInfos);\n",
    "var shuffledData = mlContext.Data.ShuffleRows(dataView, 20210922);\n",
    "var trainTestData = mlContext.Data.TrainTestSplit(shuffledData, 0.2);\n",
    "var trainData = trainTestData.TrainSet;\n",
    "var testData = trainTestData.TestSet;\n",
    "\n",
    "var features = mlContext.Data.CreateEnumerable<CarInfo>(trainData, false);\n",
    "display(features.Take(10));"
   ],
   "outputs": [],
   "metadata": {
    "dotnet_interactive": {
     "language": "csharp"
    }
   }
  },
  {
   "cell_type": "code",
   "execution_count": null,
   "source": [
    "var prices = trainData.GetColumn<float>(\"SellingPrice\");\n",
    "var pricesHistogram = Chart.Plot(\n",
    "    new Histogram { x = prices }\n",
    ");\n",
    "display(pricesHistogram);"
   ],
   "outputs": [],
   "metadata": {
    "collapsed": true,
    "jupyter": {
     "outputs_hidden": true
    },
    "tags": [],
    "dotnet_interactive": {
     "language": "csharp"
    }
   }
  },
  {
   "cell_type": "code",
   "execution_count": null,
   "source": [
    "var featuresModel = features.Select(f => f.Model);\n",
    "var featuresKilometersDriven = features.Select(f => f.KilometersDriven);\n",
    "var featuresYear = features.Select(f => f.Year);\n",
    "var featuresOwner = features.Select(f => f.Owner);\n",
    "var featuresFuelType = features.Select(f => f.FuelType);\n",
    "var featuresTransmission = features.Select(f => f.Transmission);\n",
    "var featuresCarCondition = features.Select(f => f.CarCondition);\n",
    "var featuresInsurance = features.Select(f => f.Insurance);\n",
    "\n",
    "var featuresDiagram = Chart.Plot(new[] {\n",
    "    new Box { y = featuresModel, name = \"Model\" },\n",
    "    new Box { y = featuresKilometersDriven, name = \"KilometersDriven\" },\n",
    "    new Box { y = featuresYear, name = \"Year\" },\n",
    "    new Box { y = featuresOwner, name = \"Owner\" },\n",
    "    new Box { y = featuresFuelType, name = \"FuelType\" },\n",
    "    new Box { y = featuresTransmission, name = \"Transmission\" },\n",
    "    new Box { y = featuresCarCondition, name = \"CarCondition\" },\n",
    "    new Box { y = featuresInsurance, name = \"Insurance\" }\n",
    "});\n",
    "display(featuresDiagram);"
   ],
   "outputs": [],
   "metadata": {
    "collapsed": true,
    "jupyter": {
     "outputs_hidden": true
    },
    "tags": [],
    "dotnet_interactive": {
     "language": "csharp"
    }
   }
  },
  {
   "cell_type": "code",
   "execution_count": null,
   "source": [
    "#r \"nuget:MathNet.Numerics, 4.9.0\"\n",
    "using MathNet.Numerics.Statistics;"
   ],
   "outputs": [],
   "metadata": {
    "dotnet_interactive": {
     "language": "csharp"
    }
   }
  },
  {
   "cell_type": "code",
   "execution_count": null,
   "source": [
    "var featureColumns = new string[] { \"Model\", \"KilometersDriven\", \"Year\", \"Owner\", \"FuelType\", \"Transmission\", \"CarCondition\", \"Insurance\" };\n",
    "\n",
    "var correlationMatrix = new List<List<double>>();\n",
    "correlationMatrix.Add(featuresModel.Select(x => (double)x).ToList());\n",
    "correlationMatrix.Add(featuresKilometersDriven.Select(x => (double)x).ToList());\n",
    "correlationMatrix.Add(featuresYear.Select(x => (double)x).ToList());\n",
    "correlationMatrix.Add(featuresOwner.Select(x => (double)x).ToList());\n",
    "correlationMatrix.Add(featuresFuelType.Select(x => (double)x).ToList());\n",
    "correlationMatrix.Add(featuresTransmission.Select(x => (double)x).ToList());\n",
    "correlationMatrix.Add(featuresCarCondition.Select(x => (double)x).ToList());\n",
    "correlationMatrix.Add(featuresInsurance.Select(x => (double)x).ToList());\n",
    "\n",
    "var length = featureColumns.Length;\n",
    "\n",
    "var z = new double[length, length];\n",
    "for (int x = 0; x < length; ++x)\n",
    "{\n",
    "    for (int y = 0; y < length - 1 - x; ++y)\n",
    "    {\n",
    "        var seriesA = correlationMatrix[x];\n",
    "        var seriesB = correlationMatrix[length - 1 - y];\n",
    "\n",
    "        var value = Correlation.Pearson(seriesA, seriesB);\n",
    "\n",
    "        z[x, y] = value;\n",
    "        z[length - 1 - y, length - 1 - x] = value;\n",
    "    }\n",
    "\n",
    "    z[x, length - 1 - x] = 1;\n",
    "}\n",
    "\n",
    "var correlationMatrixHeatmap = Chart.Plot(\n",
    "    new Heatmap \n",
    "    {\n",
    "        x = featureColumns,\n",
    "        y = featureColumns.Reverse(),\n",
    "        z = z,\n",
    "        zmin = -1,\n",
    "        zmax = 1\n",
    "    }\n",
    ");\n",
    "display(correlationMatrixHeatmap);"
   ],
   "outputs": [],
   "metadata": {
    "dotnet_interactive": {
     "language": "csharp"
    }
   }
  },
  {
   "cell_type": "code",
   "execution_count": null,
   "source": [],
   "outputs": [],
   "metadata": {
    "dotnet_interactive": {
     "language": "csharp"
    }
   }
  }
 ],
 "metadata": {
  "kernelspec": {
   "display_name": ".NET (C#)",
   "language": "C#",
   "name": ".net-csharp"
  },
  "language_info": {
   "file_extension": ".cs",
   "mimetype": "text/x-csharp",
   "name": "C#",
   "pygments_lexer": "csharp",
   "version": "9.0"
  }
 },
 "nbformat": 4,
 "nbformat_minor": 5
}